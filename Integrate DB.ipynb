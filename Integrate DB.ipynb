{
 "cells": [
  {
   "cell_type": "code",
   "execution_count": 1,
   "id": "e6d38690",
   "metadata": {},
   "outputs": [],
   "source": [
    "import psycopg2\n",
    "import config\n",
    "from datetime import datetime\n",
    "from configparser import ConfigParser\n",
    "import time\n",
    "from datetime import datetime"
   ]
  },
  {
   "cell_type": "code",
   "execution_count": 2,
   "id": "1658856c",
   "metadata": {},
   "outputs": [],
   "source": [
    "def config(filename=r'C:\\Users\\ajinf\\Desktop\\Swift\\database.ini', section='postgresql'):\n",
    "\t# create a parser\n",
    "\tparser = ConfigParser()\n",
    "\t# read config file\n",
    "\tparser.read(filename)\n",
    "\n",
    "\t# get section, default to postgresql\n",
    "\tdb = {}\n",
    "\tif parser.has_section(section):\n",
    "\t\tparams = parser.items(section)\n",
    "\t\tfor param in params:\n",
    "\t\t\tdb[param[0]] = param[1]\n",
    "\telse:\n",
    "\t\traise Exception('Section {0} not found in the {1} file'.format(section, filename))\n",
    "\n",
    "\treturn db"
   ]
  },
  {
   "cell_type": "code",
   "execution_count": 3,
   "id": "b05de7a4",
   "metadata": {},
   "outputs": [],
   "source": [
    "def insert_ridetaker(phno,Ridetakerorigin,Ridetakerdest,RidetakerPreferredGender,\n",
    "                RidetakerPreferredVhletype,ridetakergender):\n",
    "    \"\"\" insert a new vendor into the vendors table \"\"\"\n",
    "    sql = \"\"\"INSERT INTO ridetakerequests(phno,Ridetakerorigin,Ridetakerdest,RidetakerPreferredGender,\n",
    "                RidetakerPreferredVhletype,ridetakergender) VALUES(%s,%s,%s,%s,%s,%s) RETURNING phno\"\"\"\n",
    "    conn = psycopg2.connect(\n",
    "        host=\"localhost\",\n",
    "        database=\"Swift Ride Requests\",\n",
    "        user=\"postgres\",\n",
    "        password=\"ajin@123\")\n",
    "    user_id = None\n",
    "    try:\n",
    "        # read database configuration\n",
    "        params = config()\n",
    "        # connect to the PostgreSQL database\n",
    "        conn = psycopg2.connect(**params)\n",
    "        # create a new cursor\n",
    "        cur = conn.cursor()\n",
    "        # execute the INSERT statement\n",
    "        cur.execute(sql, (phno,Ridetakerorigin,Ridetakerdest,RidetakerPreferredGender,\n",
    "                RidetakerPreferredVhletype,ridetakergender))\n",
    "        # get the generated id back\n",
    "        vendor_id = cur.fetchone()[0]\n",
    "        # commit the changes to the database\n",
    "        conn.commit()\n",
    "        # close communication with the database\n",
    "        cur.close()\n",
    "    except (Exception, psycopg2.DatabaseError) as error:\n",
    "        print(error)\n",
    "    finally:\n",
    "        if conn is not None:\n",
    "            conn.close()\n",
    "\n",
    "    return phno"
   ]
  },
  {
   "cell_type": "code",
   "execution_count": 4,
   "id": "f9571b30",
   "metadata": {},
   "outputs": [
    {
     "name": "stdout",
     "output_type": "stream",
     "text": [
      "13.099515, 77.589559\n"
     ]
    }
   ],
   "source": [
    "import pandas as pd\n",
    "df = pd.read_csv(\n",
    "    'rg_latlng.txt', sep=\"\\n\",header=None)\n",
    "print(df[0][22])"
   ]
  },
  {
   "cell_type": "code",
   "execution_count": 5,
   "id": "e0de70ce",
   "metadata": {},
   "outputs": [],
   "source": [
    "from random import randint\n",
    "import random\n",
    "def random_with_N_digits(n):\n",
    "    range_start = 10**(n-1)\n",
    "    range_end = (10**n)-1\n",
    "    return randint(range_start, range_end)"
   ]
  },
  {
   "cell_type": "code",
   "execution_count": 6,
   "id": "0d0f1512",
   "metadata": {},
   "outputs": [],
   "source": [
    "users = 23\n",
    "if __name__ == '__main__':\n",
    "    # insert multiple vendors\n",
    "    for i in range(users):\n",
    "        phno = random_with_N_digits(10)\n",
    "        ridetakerorigin = df[0][i]\n",
    "        ridetakerdest = '13.117219, 77.634111'\n",
    "        foo = ['M','F']\n",
    "        fo = ['M','F','B']\n",
    "        gender = random.choice(fo)\n",
    "        gen =  random.choice(foo)\n",
    "        vhletype = \"Bike\"\n",
    "        insert_ridetaker(phno,ridetakerorigin,ridetakerdest,gender,vhletype,gen)\n",
    "        "
   ]
  },
  {
   "cell_type": "code",
   "execution_count": null,
   "id": "1c5c73c6",
   "metadata": {},
   "outputs": [],
   "source": []
  }
 ],
 "metadata": {
  "kernelspec": {
   "display_name": "Python 3",
   "language": "python",
   "name": "python3"
  },
  "language_info": {
   "codemirror_mode": {
    "name": "ipython",
    "version": 3
   },
   "file_extension": ".py",
   "mimetype": "text/x-python",
   "name": "python",
   "nbconvert_exporter": "python",
   "pygments_lexer": "ipython3",
   "version": "3.8.8"
  }
 },
 "nbformat": 4,
 "nbformat_minor": 5
}
